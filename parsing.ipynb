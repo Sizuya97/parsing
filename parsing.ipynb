{
 "cells": [
  {
   "cell_type": "markdown",
   "id": "65d47ebf-af33-45a5-9592-0435f305310a",
   "metadata": {},
   "source": [
    "# Парсинг, полиномиальная регрессия и визуализация данных"
   ]
  },
  {
   "cell_type": "markdown",
   "id": "fd9de069-c631-40a7-8826-1790fa7e5b49",
   "metadata": {},
   "source": [
    "### 1. Парсинг данных"
   ]
  },
  {
   "cell_type": "code",
   "execution_count": 3,
   "id": "38c872d9-5252-4a18-ae7c-139ed0cd1ab4",
   "metadata": {},
   "outputs": [
    {
     "data": {
      "text/html": [
       "<div>\n",
       "<style scoped>\n",
       "    .dataframe tbody tr th:only-of-type {\n",
       "        vertical-align: middle;\n",
       "    }\n",
       "\n",
       "    .dataframe tbody tr th {\n",
       "        vertical-align: top;\n",
       "    }\n",
       "\n",
       "    .dataframe thead th {\n",
       "        text-align: right;\n",
       "    }\n",
       "</style>\n",
       "<table border=\"1\" class=\"dataframe\">\n",
       "  <thead>\n",
       "    <tr style=\"text-align: right;\">\n",
       "      <th></th>\n",
       "      <th>Unnamed: 0</th>\n",
       "      <th>0</th>\n",
       "      <th>1</th>\n",
       "    </tr>\n",
       "  </thead>\n",
       "  <tbody>\n",
       "    <tr>\n",
       "      <th>0</th>\n",
       "      <td>0</td>\n",
       "      <td>Год</td>\n",
       "      <td>Количество родившихся чел.</td>\n",
       "    </tr>\n",
       "    <tr>\n",
       "      <th>1</th>\n",
       "      <td>1</td>\n",
       "      <td>1959</td>\n",
       "      <td>2 796 228</td>\n",
       "    </tr>\n",
       "    <tr>\n",
       "      <th>2</th>\n",
       "      <td>2</td>\n",
       "      <td>1960</td>\n",
       "      <td>2 782 353</td>\n",
       "    </tr>\n",
       "    <tr>\n",
       "      <th>3</th>\n",
       "      <td>3</td>\n",
       "      <td>1961</td>\n",
       "      <td>2 662 135</td>\n",
       "    </tr>\n",
       "    <tr>\n",
       "      <th>4</th>\n",
       "      <td>4</td>\n",
       "      <td>1962</td>\n",
       "      <td>2 482 539</td>\n",
       "    </tr>\n",
       "  </tbody>\n",
       "</table>\n",
       "</div>"
      ],
      "text/plain": [
       "   Unnamed: 0     0                           1\n",
       "0           0   Год  Количество родившихся чел.\n",
       "1           1  1959                   2 796 228\n",
       "2           2  1960                   2 782 353\n",
       "3           3  1961                   2 662 135\n",
       "4           4  1962                   2 482 539"
      ]
     },
     "execution_count": 3,
     "metadata": {},
     "output_type": "execute_result"
    }
   ],
   "source": [
    "import pandas as pd\n",
    "import numpy as np\n",
    "\n",
    "url = 'https://worldtable.info/gosudarstvo/tablica-rozhdaemosti-po-godam-rossija.html'\n",
    "\n",
    "for i, df in enumerate(pd.read_html(url)):\n",
    "    df.to_csv('myfile.csv')\n",
    "\n",
    "data = pd.read_csv('myfile.csv')\n",
    "data.head(5)"
   ]
  },
  {
   "cell_type": "code",
   "execution_count": 4,
   "id": "8405defa-db20-4901-a737-a91bd68c45c9",
   "metadata": {},
   "outputs": [
    {
     "name": "stdout",
     "output_type": "stream",
     "text": [
      "<class 'pandas.core.frame.DataFrame'>\n",
      "RangeIndex: 63 entries, 0 to 62\n",
      "Data columns (total 3 columns):\n",
      " #   Column      Non-Null Count  Dtype \n",
      "---  ------      --------------  ----- \n",
      " 0   Unnamed: 0  63 non-null     int64 \n",
      " 1   0           63 non-null     object\n",
      " 2   1           63 non-null     object\n",
      "dtypes: int64(1), object(2)\n",
      "memory usage: 1.6+ KB\n"
     ]
    }
   ],
   "source": [
    "data.info()"
   ]
  },
  {
   "cell_type": "markdown",
   "id": "7ffe580e-8f97-434f-8a85-f0e78a49c873",
   "metadata": {},
   "source": [
    "### 2. Подготовка данных"
   ]
  },
  {
   "cell_type": "code",
   "execution_count": 5,
   "id": "930db58e-abde-48e1-a6d4-f99dcd2becc1",
   "metadata": {},
   "outputs": [
    {
     "name": "stdout",
     "output_type": "stream",
     "text": [
      "<class 'pandas.core.frame.DataFrame'>\n",
      "RangeIndex: 62 entries, 1 to 62\n",
      "Data columns (total 2 columns):\n",
      " #   Column  Non-Null Count  Dtype  \n",
      "---  ------  --------------  -----  \n",
      " 0   0       62 non-null     float64\n",
      " 1   1       62 non-null     float64\n",
      "dtypes: float64(2)\n",
      "memory usage: 1.1 KB\n"
     ]
    }
   ],
   "source": [
    "data = data.iloc[1:] #удаление первой строки\n",
    "data = data.drop(data.columns[0], axis=1) #удаление первого столбца\n",
    "data['1'] = data['1'].str.replace(' ', '') #удаление лишних пробелов\n",
    "data['1'] = data['1'].astype('float') #.astype('int32') #изменение типа данных\n",
    "data['0'] = data['0'].astype('float') #.astype('int32') #изменение типа данных\n",
    "data.info()"
   ]
  },
  {
   "cell_type": "code",
   "execution_count": 6,
   "id": "5248890f-f536-4bbf-9f7e-c39c6fd1e7f5",
   "metadata": {},
   "outputs": [
    {
     "data": {
      "text/html": [
       "<div>\n",
       "<style scoped>\n",
       "    .dataframe tbody tr th:only-of-type {\n",
       "        vertical-align: middle;\n",
       "    }\n",
       "\n",
       "    .dataframe tbody tr th {\n",
       "        vertical-align: top;\n",
       "    }\n",
       "\n",
       "    .dataframe thead th {\n",
       "        text-align: right;\n",
       "    }\n",
       "</style>\n",
       "<table border=\"1\" class=\"dataframe\">\n",
       "  <thead>\n",
       "    <tr style=\"text-align: right;\">\n",
       "      <th></th>\n",
       "      <th>0</th>\n",
       "      <th>1</th>\n",
       "    </tr>\n",
       "  </thead>\n",
       "  <tbody>\n",
       "    <tr>\n",
       "      <th>1</th>\n",
       "      <td>1959.0</td>\n",
       "      <td>2796228.0</td>\n",
       "    </tr>\n",
       "    <tr>\n",
       "      <th>2</th>\n",
       "      <td>1960.0</td>\n",
       "      <td>2782353.0</td>\n",
       "    </tr>\n",
       "    <tr>\n",
       "      <th>3</th>\n",
       "      <td>1961.0</td>\n",
       "      <td>2662135.0</td>\n",
       "    </tr>\n",
       "    <tr>\n",
       "      <th>4</th>\n",
       "      <td>1962.0</td>\n",
       "      <td>2482539.0</td>\n",
       "    </tr>\n",
       "    <tr>\n",
       "      <th>5</th>\n",
       "      <td>1963.0</td>\n",
       "      <td>2331505.0</td>\n",
       "    </tr>\n",
       "  </tbody>\n",
       "</table>\n",
       "</div>"
      ],
      "text/plain": [
       "        0          1\n",
       "1  1959.0  2796228.0\n",
       "2  1960.0  2782353.0\n",
       "3  1961.0  2662135.0\n",
       "4  1962.0  2482539.0\n",
       "5  1963.0  2331505.0"
      ]
     },
     "execution_count": 6,
     "metadata": {},
     "output_type": "execute_result"
    }
   ],
   "source": [
    "data.head(5)"
   ]
  },
  {
   "cell_type": "markdown",
   "id": "4a755872-2cf2-4c2c-bd8f-caaa83aeb218",
   "metadata": {},
   "source": [
    "### 3. Визуализация данных "
   ]
  },
  {
   "cell_type": "code",
   "execution_count": 7,
   "id": "1f246447-bf4a-4073-be9f-cbca9c3fbd88",
   "metadata": {},
   "outputs": [
    {
     "data": {
      "image/png": "[encoded data removed]",
      "text/plain": [
       "<Figure size 576x576 with 1 Axes>"
      ]
     },
     "metadata": {
      "needs_background": "light"
     },
     "output_type": "display_data"
    }
   ],
   "source": [
    "import matplotlib.pyplot as plt\n",
    "\n",
    "X = data['0']\n",
    "y = data['1']\n",
    "\n",
    "fig, ax = plt.subplots(figsize = (8, 8))\n",
    "ax.set_ylabel('Количество родившихся чел.', fontsize=14)\n",
    "ax.set_xlabel('Год', fontsize=14)\n",
    "plt.plot(X, y)\n",
    "plt.grid()\n",
    "plt.show()"
   ]
  },
  {
   "cell_type": "markdown",
   "id": "448724d7-153c-4e96-825a-fd0508e7e0d2",
   "metadata": {},
   "source": [
    "### 4. Применения полиномиальной регрессии, определение метрик MAE, MSE, RMSE "
   ]
  },
  {
   "cell_type": "code",
   "execution_count": 8,
   "id": "b1671ed4-877b-416a-a884-e8eccbb23af0",
   "metadata": {},
   "outputs": [],
   "source": [
    "from sklearn.model_selection import train_test_split\n",
    "from sklearn.preprocessing import PolynomialFeatures\n",
    "\n",
    "X = X.values.reshape(-1, 1)\n",
    "y = y.values.reshape(-1, 1)\n",
    "poly_reg = PolynomialFeatures(degree=3)\n",
    "X_poly = poly_reg.fit_transform(X)\n",
    "\n",
    "X_train, X_test, y_train, y_test = train_test_split(X_poly, y, test_size=0.2, random_state=0)"
   ]
  },
  {
   "cell_type": "code",
   "execution_count": 9,
   "id": "0bf8753e-f29a-4969-aa5f-bf066857d6bf",
   "metadata": {},
   "outputs": [],
   "source": [
    "from sklearn.linear_model import LinearRegression\n",
    "from sklearn.metrics import mean_absolute_error, mean_squared_error"
   ]
  },
  {
   "cell_type": "code",
   "execution_count": 10,
   "id": "62ce5ef8-2347-4b49-9a96-393783f903e9",
   "metadata": {},
   "outputs": [
    {
     "data": {
      "text/plain": [
       "(array([-1.16561445e+11]),\n",
       " array([[ 0.00000000e+00,  1.76290356e+08, -8.88616001e+04,\n",
       "          1.49285957e+01]]))"
      ]
     },
     "execution_count": 10,
     "metadata": {},
     "output_type": "execute_result"
    }
   ],
   "source": [
    "lin_reg = LinearRegression()\n",
    "lin_reg.fit(X_train, y_train)\n",
    "\n",
    "train_pred = lin_reg.predict(X_train)\n",
    "test_pred = lin_reg.predict(X_test)\n",
    "\n",
    "lin_reg.intercept_, lin_reg.coef_"
   ]
  },
  {
   "cell_type": "code",
   "execution_count": 11,
   "id": "c987961a-0632-49fc-b630-f14e5b472881",
   "metadata": {},
   "outputs": [
    {
     "name": "stdout",
     "output_type": "stream",
     "text": [
      "Train MAE: 273418.6410868119\n",
      "Test MAE: 224105.48570486216\n",
      "Train MSE: 97614469407.35942\n",
      "Test MSE: 72423092653.99106\n",
      "Train RMSE: 312433.14390019415\n",
      "Test RMSE: 269115.3891065895\n"
     ]
    }
   ],
   "source": [
    "print('Train MAE:', mean_absolute_error(train_pred, y_train))\n",
    "print('Test MAE:', mean_absolute_error(test_pred, y_test))\n",
    "\n",
    "print('Train MSE:', mean_squared_error(train_pred, y_train))\n",
    "print('Test MSE:', mean_squared_error(test_pred, y_test))\n",
    "\n",
    "print('Train RMSE:', mean_squared_error(train_pred, y_train) ** 0.5)\n",
    "print('Test RMSE:', mean_squared_error(test_pred, y_test) ** 0.5)"
   ]
  },
  {
   "cell_type": "markdown",
   "id": "f9af2bae-a880-473e-934b-f0528d7e7ad4",
   "metadata": {},
   "source": [
    "### 5. Визуализация полиномиальной регрессии"
   ]
  },
  {
   "cell_type": "code",
   "execution_count": 13,
   "id": "f8e4d3c4-d096-4b0b-9331-e2e693bb7126",
   "metadata": {},
   "outputs": [
    {
     "data": {
      "image/png": "[encoded data removed]",
      "text/plain": [
       "<Figure size 576x576 with 1 Axes>"
      ]
     },
     "metadata": {
      "needs_background": "light"
     },
     "output_type": "display_data"
    }
   ],
   "source": [
    "fig, ax = plt.subplots(figsize = (8, 8))\n",
    "plt.scatter(X, y, edgecolor='k', facecolor='white')\n",
    "plt.plot(np.sort(X_train, axis = 0)[::-1], np.sort(train_pred, axis = 0), color='green')\n",
    "ax.set_ylabel('Количество родившихся чел.', fontsize=14)\n",
    "ax.set_xlabel('Год', fontsize=14)\n",
    "plt.xlim (1950, 2030)\n",
    "plt.grid()\n",
    "plt.show()"
   ]
  }
 ],
 "metadata": {
  "kernelspec": {
   "display_name": "Python 3",
   "language": "python",
   "name": "python3"
  },
  "language_info": {
   "codemirror_mode": {
    "name": "ipython",
    "version": 3
   },
   "file_extension": ".py",
   "mimetype": "text/x-python",
   "name": "python",
   "nbconvert_exporter": "python",
   "pygments_lexer": "ipython3",
   "version": "3.8.8"
  },
  "toc-autonumbering": false,
  "toc-showmarkdowntxt": true
 },
 "nbformat": 4,
 "nbformat_minor": 5
}
